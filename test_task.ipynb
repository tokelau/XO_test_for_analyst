{
 "cells": [
  {
   "cell_type": "code",
   "execution_count": 194,
   "id": "8742c5d9",
   "metadata": {},
   "outputs": [],
   "source": [
    "import pandas as pd"
   ]
  },
  {
   "cell_type": "code",
   "execution_count": 5,
   "id": "1a973963",
   "metadata": {},
   "outputs": [],
   "source": [
    "# pip install --upgrade google-api-python-client google-auth-httplib2 google-auth-oauthlib"
   ]
  },
  {
   "cell_type": "markdown",
   "id": "22591bd8",
   "metadata": {},
   "source": [
    "### Чтение таблиц с диска"
   ]
  },
  {
   "cell_type": "code",
   "execution_count": 196,
   "id": "5bc43443",
   "metadata": {},
   "outputs": [],
   "source": [
    "from __future__ import print_function\n",
    "import os.path\n",
    "from googleapiclient.discovery import build\n",
    "from google_auth_oauthlib.flow import InstalledAppFlow\n",
    "from google.auth.transport.requests import Request\n",
    "from google.oauth2.credentials import Credentials\n",
    "\n",
    "# If modifying these scopes, delete the file token.json.\n",
    "SCOPES = ['https://www.googleapis.com/auth/spreadsheets']\n",
    "\n",
    "# The ID and range of spreadsheets\n",
    "SPREADSHEET_ID = '1Ycg7zTxds9DZnDvTrFcyNNKuTUxg6Yy6WF0a8Wc02WQ'\n",
    "CLIENTS_RANGE = 'clients!A1:C74766'\n",
    "LEADS_RANGE = 'leads!A1:F3338'\n",
    "MANAGERS_RANGE = 'managers!A1:C14'\n",
    "\n",
    "def read_table(table_range):\n",
    "    creds = None\n",
    "    # The file token.json stores the user's access and refresh tokens, and is\n",
    "    # created automatically when the authorization flow completes for the first\n",
    "    # time.\n",
    "    if os.path.exists('token.json'):\n",
    "        creds = Credentials.from_authorized_user_file('token.json', SCOPES)\n",
    "    # If there are no (valid) credentials available, let the user log in.\n",
    "    if not creds or not creds.valid:\n",
    "        if creds and creds.expired and creds.refresh_token:\n",
    "            creds.refresh(Request())\n",
    "        else:\n",
    "            flow = InstalledAppFlow.from_client_secrets_file(\n",
    "                'credentials.json', SCOPES)\n",
    "            creds = flow.run_local_server(port=0)\n",
    "        # Save the credentials for the next run\n",
    "        with open('token.json', 'w') as token:\n",
    "            token.write(creds.to_json())\n",
    "\n",
    "    service = build('sheets', 'v4', credentials=creds)\n",
    "\n",
    "    # Читаем таблицу\n",
    "    sheet = service.spreadsheets()\n",
    "    result = sheet.values().get(spreadsheetId=SPREADSHEET_ID,\n",
    "                                range=table_range).execute()\n",
    "    table = result.get('values', [])\n",
    "    \n",
    "    # Преобразуем таблицу в датафрейм\n",
    "    table_df = pd.DataFrame(table[1:], columns=table[0])\n",
    "    return table_df"
   ]
  },
  {
   "cell_type": "markdown",
   "id": "b067c68c",
   "metadata": {},
   "source": [
    "### Запись таблиц на диск"
   ]
  },
  {
   "cell_type": "code",
   "execution_count": 186,
   "id": "864545f9",
   "metadata": {},
   "outputs": [],
   "source": [
    "# The ID and range of a sample spreadsheet.\n",
    "# \"https://docs.google.com/spreadsheets/d/17UbRcA-UgY2CbqeumagIHnctQsqj5lu_iJUTMq_IFqA/edit?usp=sharing\"\n",
    "\n",
    "WRITE_SPREADSHEET_ID = '17UbRcA-UgY2CbqeumagIHnctQsqj5lu_iJUTMq_IFqA'\n",
    "\n",
    "def write_table(table, rng):\n",
    "    creds = None\n",
    "    # The file token.json stores the user's access and refresh tokens, and is\n",
    "    # created automatically when the authorization flow completes for the first\n",
    "    # time.\n",
    "    if os.path.exists('token.json'):\n",
    "        creds = Credentials.from_authorized_user_file('token.json', SCOPES)\n",
    "    # If there are no (valid) credentials available, let the user log in.\n",
    "    if not creds or not creds.valid:\n",
    "        if creds and creds.expired and creds.refresh_token:\n",
    "            creds.refresh(Request())\n",
    "        else:\n",
    "            flow = InstalledAppFlow.from_client_secrets_file(\n",
    "                'credentials.json', SCOPES)\n",
    "            creds = flow.run_local_server(port=0)\n",
    "        # Save the credentials for the next run\n",
    "        with open('token.json', 'w') as token:\n",
    "            token.write(creds.to_json())\n",
    "\n",
    "    service = build('sheets', 'v4', credentials=creds)\n",
    "\n",
    "    # Пишем таблицу\n",
    "    sheet = service.spreadsheets()\n",
    "    request = sheet.values().batchUpdate(spreadsheetId=WRITE_SPREADSHEET_ID, \n",
    "                                    body = {\n",
    "                                        \"valueInputOption\": \"RAW\", \n",
    "                                        \"data\": [\n",
    "                                            {\"range\": rng,\n",
    "                                             \"majorDimension\": \"ROWS\",     \n",
    "                                             \"values\": [table.columns.values.tolist()] + table.values.tolist()\n",
    "                                            }\n",
    "                                        ]\n",
    "                                    })\n",
    "    \n",
    "    response = request.execute()\n",
    "    print(response)"
   ]
  },
  {
   "cell_type": "code",
   "execution_count": 8,
   "id": "377ed059",
   "metadata": {},
   "outputs": [],
   "source": [
    "leads_df = read_table(LEADS_RANGE) # читаем таблицу с заявками\n",
    "managers_df = read_table(MANAGERS_RANGE) # читаем таблицу с менеджерами"
   ]
  },
  {
   "cell_type": "code",
   "execution_count": 18,
   "id": "c75cde03",
   "metadata": {},
   "outputs": [
    {
     "data": {
      "text/html": [
       "<div>\n",
       "<style scoped>\n",
       "    .dataframe tbody tr th:only-of-type {\n",
       "        vertical-align: middle;\n",
       "    }\n",
       "\n",
       "    .dataframe tbody tr th {\n",
       "        vertical-align: top;\n",
       "    }\n",
       "\n",
       "    .dataframe thead th {\n",
       "        text-align: right;\n",
       "    }\n",
       "</style>\n",
       "<table border=\"1\" class=\"dataframe\">\n",
       "  <thead>\n",
       "    <tr style=\"text-align: right;\">\n",
       "      <th></th>\n",
       "      <th>lead_id</th>\n",
       "      <th>created_at</th>\n",
       "      <th>d_utm_medium</th>\n",
       "      <th>d_utm_source</th>\n",
       "      <th>l_manager_id</th>\n",
       "      <th>l_client_id</th>\n",
       "    </tr>\n",
       "  </thead>\n",
       "  <tbody>\n",
       "    <tr>\n",
       "      <th>0</th>\n",
       "      <td>00678e71-0fb9-11eb-ac1a-c412f533dba1</td>\n",
       "      <td>2020-10-16 18:08:09</td>\n",
       "      <td>sms</td>\n",
       "      <td>viber</td>\n",
       "      <td>1e9c5562-0cfc-11ea-abe1-c412f533dba1</td>\n",
       "      <td>7264cf21-a31d-11e9-abb0-c412f533dba1</td>\n",
       "    </tr>\n",
       "    <tr>\n",
       "      <th>1</th>\n",
       "      <td>0078b05d-0f1f-11eb-ac1a-c412f533dba1</td>\n",
       "      <td>2020-10-15 23:45:40</td>\n",
       "      <td>cpc</td>\n",
       "      <td>instagram</td>\n",
       "      <td>d12fe765-b444-11e9-abb3-c412f533dba1</td>\n",
       "      <td>606c5b29-0f88-11eb-ac1a-c412f533dba1</td>\n",
       "    </tr>\n",
       "    <tr>\n",
       "      <th>2</th>\n",
       "      <td>007d1401-2af3-11eb-ac1f-c412f533dba1</td>\n",
       "      <td>2020-11-20 09:41:14</td>\n",
       "      <td>cpc</td>\n",
       "      <td>instagram</td>\n",
       "      <td>43756fa4-57a0-11e9-ab9a-c412f533dba1</td>\n",
       "      <td>1f389c6a-d5ab-11e9-abbe-c412f533dba1</td>\n",
       "    </tr>\n",
       "    <tr>\n",
       "      <th>3</th>\n",
       "      <td>0084e614-2fcc-11eb-ac1f-c412f533dba1</td>\n",
       "      <td>2020-11-26 13:44:40</td>\n",
       "      <td></td>\n",
       "      <td></td>\n",
       "      <td>00000000-0000-0000-0000-000000000000</td>\n",
       "      <td>00000000-0000-0000-0000-000000000000</td>\n",
       "    </tr>\n",
       "    <tr>\n",
       "      <th>4</th>\n",
       "      <td>009b1616-145d-11eb-ac1d-c412f533dba1</td>\n",
       "      <td>2020-10-22 15:52:04</td>\n",
       "      <td>cpc</td>\n",
       "      <td>vk</td>\n",
       "      <td>5dd88f32-6501-11ea-abf3-c412f533dba1</td>\n",
       "      <td>ac2c0012-6fd5-11e7-80fc-c412f533dba1</td>\n",
       "    </tr>\n",
       "  </tbody>\n",
       "</table>\n",
       "</div>"
      ],
      "text/plain": [
       "                                lead_id           created_at d_utm_medium  \\\n",
       "0  00678e71-0fb9-11eb-ac1a-c412f533dba1  2020-10-16 18:08:09          sms   \n",
       "1  0078b05d-0f1f-11eb-ac1a-c412f533dba1  2020-10-15 23:45:40          cpc   \n",
       "2  007d1401-2af3-11eb-ac1f-c412f533dba1  2020-11-20 09:41:14          cpc   \n",
       "3  0084e614-2fcc-11eb-ac1f-c412f533dba1  2020-11-26 13:44:40                \n",
       "4  009b1616-145d-11eb-ac1d-c412f533dba1  2020-10-22 15:52:04          cpc   \n",
       "\n",
       "  d_utm_source                          l_manager_id  \\\n",
       "0        viber  1e9c5562-0cfc-11ea-abe1-c412f533dba1   \n",
       "1    instagram  d12fe765-b444-11e9-abb3-c412f533dba1   \n",
       "2    instagram  43756fa4-57a0-11e9-ab9a-c412f533dba1   \n",
       "3               00000000-0000-0000-0000-000000000000   \n",
       "4           vk  5dd88f32-6501-11ea-abf3-c412f533dba1   \n",
       "\n",
       "                            l_client_id  \n",
       "0  7264cf21-a31d-11e9-abb0-c412f533dba1  \n",
       "1  606c5b29-0f88-11eb-ac1a-c412f533dba1  \n",
       "2  1f389c6a-d5ab-11e9-abbe-c412f533dba1  \n",
       "3  00000000-0000-0000-0000-000000000000  \n",
       "4  ac2c0012-6fd5-11e7-80fc-c412f533dba1  "
      ]
     },
     "execution_count": 18,
     "metadata": {},
     "output_type": "execute_result"
    }
   ],
   "source": [
    "leads_df.head()"
   ]
  },
  {
   "cell_type": "markdown",
   "id": "574a4839",
   "metadata": {},
   "source": [
    "### Создание Dimensions"
   ]
  },
  {
   "cell_type": "code",
   "execution_count": 197,
   "id": "22ac1020",
   "metadata": {},
   "outputs": [],
   "source": [
    "# Получить d_manager по id менеджера\n",
    "def get_d_manager_by_id(manager_id):\n",
    "    not_manager_id = \"00000000-0000-0000-0000-000000000000\"\n",
    "    if manager_id == not_manager_id:\n",
    "        return \"-\"\n",
    "    manager = managers_df[managers_df['manager_id'] == manager_id]['d_manager']\n",
    "    if manager.empty:\n",
    "        return \"invalid id\"\n",
    "    else:\n",
    "        return manager.iloc[0]"
   ]
  },
  {
   "cell_type": "code",
   "execution_count": 198,
   "id": "94432004",
   "metadata": {},
   "outputs": [],
   "source": [
    "# Получить d_club по id менеджера\n",
    "def get_d_club_by_id(manager_id):\n",
    "    not_manager_id = \"00000000-0000-0000-0000-000000000000\"\n",
    "    if manager_id == not_manager_id:\n",
    "        return \"-\"\n",
    "    club = managers_df[managers_df['manager_id'] == manager_id]['d_club']\n",
    "    if club.empty:\n",
    "        return \"invalid id\"\n",
    "    else:\n",
    "        return club.iloc[0]"
   ]
  },
  {
   "cell_type": "code",
   "execution_count": 213,
   "id": "b5be8da5",
   "metadata": {},
   "outputs": [],
   "source": [
    "dimensions = leads_df[[\"lead_id\", \"d_utm_source\", \"l_manager_id\"]].copy() # копируем из leads только полезные столбцы"
   ]
  },
  {
   "cell_type": "code",
   "execution_count": 214,
   "id": "45f57bd8",
   "metadata": {},
   "outputs": [],
   "source": [
    "dimensions['d_manager'] = dimensions['l_manager_id'].apply(\n",
    "                            lambda x: get_d_manager_by_id(x)) # подставить d_manager"
   ]
  },
  {
   "cell_type": "code",
   "execution_count": 215,
   "id": "99e6a7f0",
   "metadata": {},
   "outputs": [],
   "source": [
    "dimensions['d_club'] = dimensions['l_manager_id'].apply(\n",
    "                            lambda x: get_d_club_by_id(x)) # подставить d_club"
   ]
  },
  {
   "cell_type": "code",
   "execution_count": 216,
   "id": "154e1f79",
   "metadata": {},
   "outputs": [],
   "source": [
    "dimensions = dimensions.drop(['l_manager_id'], axis=1) # удалить лишний столбец с индексами менеджеров"
   ]
  },
  {
   "cell_type": "code",
   "execution_count": 217,
   "id": "b0876026",
   "metadata": {},
   "outputs": [
    {
     "data": {
      "text/html": [
       "<div>\n",
       "<style scoped>\n",
       "    .dataframe tbody tr th:only-of-type {\n",
       "        vertical-align: middle;\n",
       "    }\n",
       "\n",
       "    .dataframe tbody tr th {\n",
       "        vertical-align: top;\n",
       "    }\n",
       "\n",
       "    .dataframe thead th {\n",
       "        text-align: right;\n",
       "    }\n",
       "</style>\n",
       "<table border=\"1\" class=\"dataframe\">\n",
       "  <thead>\n",
       "    <tr style=\"text-align: right;\">\n",
       "      <th></th>\n",
       "      <th>lead_id</th>\n",
       "      <th>d_utm_source</th>\n",
       "      <th>d_manager</th>\n",
       "      <th>d_club</th>\n",
       "    </tr>\n",
       "  </thead>\n",
       "  <tbody>\n",
       "    <tr>\n",
       "      <th>0</th>\n",
       "      <td>00678e71-0fb9-11eb-ac1a-c412f533dba1</td>\n",
       "      <td>viber</td>\n",
       "      <td>manager #8</td>\n",
       "      <td>club #2</td>\n",
       "    </tr>\n",
       "    <tr>\n",
       "      <th>1</th>\n",
       "      <td>0078b05d-0f1f-11eb-ac1a-c412f533dba1</td>\n",
       "      <td>instagram</td>\n",
       "      <td>manager #1</td>\n",
       "      <td>club #1</td>\n",
       "    </tr>\n",
       "    <tr>\n",
       "      <th>2</th>\n",
       "      <td>007d1401-2af3-11eb-ac1f-c412f533dba1</td>\n",
       "      <td>instagram</td>\n",
       "      <td>manager #11</td>\n",
       "      <td>club #4</td>\n",
       "    </tr>\n",
       "    <tr>\n",
       "      <th>3</th>\n",
       "      <td>0084e614-2fcc-11eb-ac1f-c412f533dba1</td>\n",
       "      <td></td>\n",
       "      <td>-</td>\n",
       "      <td>-</td>\n",
       "    </tr>\n",
       "    <tr>\n",
       "      <th>4</th>\n",
       "      <td>009b1616-145d-11eb-ac1d-c412f533dba1</td>\n",
       "      <td>vk</td>\n",
       "      <td>manager #10</td>\n",
       "      <td>club #2</td>\n",
       "    </tr>\n",
       "  </tbody>\n",
       "</table>\n",
       "</div>"
      ],
      "text/plain": [
       "                                lead_id d_utm_source    d_manager   d_club\n",
       "0  00678e71-0fb9-11eb-ac1a-c412f533dba1        viber   manager #8  club #2\n",
       "1  0078b05d-0f1f-11eb-ac1a-c412f533dba1    instagram   manager #1  club #1\n",
       "2  007d1401-2af3-11eb-ac1f-c412f533dba1    instagram  manager #11  club #4\n",
       "3  0084e614-2fcc-11eb-ac1f-c412f533dba1                         -        -\n",
       "4  009b1616-145d-11eb-ac1d-c412f533dba1           vk  manager #10  club #2"
      ]
     },
     "execution_count": 217,
     "metadata": {},
     "output_type": "execute_result"
    }
   ],
   "source": [
    "dimensions.head()"
   ]
  },
  {
   "cell_type": "markdown",
   "id": "963525ef",
   "metadata": {},
   "source": [
    "#### Запись таблицы Dimensions на диск"
   ]
  },
  {
   "cell_type": "code",
   "execution_count": 211,
   "id": "3dfce8d2",
   "metadata": {},
   "outputs": [
    {
     "name": "stdout",
     "output_type": "stream",
     "text": [
      "{'spreadsheetId': '17UbRcA-UgY2CbqeumagIHnctQsqj5lu_iJUTMq_IFqA', 'totalUpdatedRows': 3338, 'totalUpdatedColumns': 4, 'totalUpdatedCells': 13352, 'totalUpdatedSheets': 1, 'responses': [{'spreadsheetId': '17UbRcA-UgY2CbqeumagIHnctQsqj5lu_iJUTMq_IFqA', 'updatedRange': 'Dimensions!A1:D3338', 'updatedRows': 3338, 'updatedColumns': 4, 'updatedCells': 13352}]}\n"
     ]
    }
   ],
   "source": [
    "DIMENSIONS_RANGE = 'Dimensions!A1:D' + str(len(dimensions) + 1)\n",
    "write_table(dimensions, DIMENSIONS_RANGE)"
   ]
  },
  {
   "cell_type": "markdown",
   "id": "10b387b3",
   "metadata": {},
   "source": [
    "### Создание таблицы для вычисления Measures"
   ]
  },
  {
   "cell_type": "markdown",
   "id": "5b34534b",
   "metadata": {},
   "source": [
    "#### 1. количество заявок"
   ]
  },
  {
   "cell_type": "code",
   "execution_count": 115,
   "id": "72d28a21",
   "metadata": {},
   "outputs": [
    {
     "data": {
      "text/plain": [
       "3337"
      ]
     },
     "execution_count": 115,
     "metadata": {},
     "output_type": "execute_result"
    }
   ],
   "source": [
    "len(dimensions) # просто для проверки"
   ]
  },
  {
   "cell_type": "markdown",
   "id": "c7c36b6e",
   "metadata": {},
   "source": [
    "#### 2. количество мусорных заявок (на основании заявки не создан клиент)"
   ]
  },
  {
   "cell_type": "code",
   "execution_count": 219,
   "id": "00ac31df",
   "metadata": {},
   "outputs": [],
   "source": [
    "CLIENTS_RANGE = \"clients!A1:C75767\"\n",
    "clients_df = read_table(CLIENTS_RANGE) # мы еще не считали таблицу с клиентами - читаем"
   ]
  },
  {
   "cell_type": "code",
   "execution_count": 222,
   "id": "0679867d",
   "metadata": {
    "scrolled": true
   },
   "outputs": [
    {
     "data": {
      "text/html": [
       "<div>\n",
       "<style scoped>\n",
       "    .dataframe tbody tr th:only-of-type {\n",
       "        vertical-align: middle;\n",
       "    }\n",
       "\n",
       "    .dataframe tbody tr th {\n",
       "        vertical-align: top;\n",
       "    }\n",
       "\n",
       "    .dataframe thead th {\n",
       "        text-align: right;\n",
       "    }\n",
       "</style>\n",
       "<table border=\"1\" class=\"dataframe\">\n",
       "  <thead>\n",
       "    <tr style=\"text-align: right;\">\n",
       "      <th></th>\n",
       "      <th>client_id</th>\n",
       "      <th>created_at</th>\n",
       "      <th>l_manager_id</th>\n",
       "    </tr>\n",
       "  </thead>\n",
       "  <tbody>\n",
       "    <tr>\n",
       "      <th>0</th>\n",
       "      <td>0001da7d-fcda-11ea-ac18-c412f533dba1</td>\n",
       "      <td>2020-09-22 17:46:23</td>\n",
       "      <td>9a87c608-52dc-11ea-abeb-c412f533dba1</td>\n",
       "    </tr>\n",
       "    <tr>\n",
       "      <th>1</th>\n",
       "      <td>000a8743-9ae1-11e7-8114-c412f533dba1</td>\n",
       "      <td>2017-09-16 00:00:00</td>\n",
       "      <td>ad52c7a8-a752-11e7-8115-c412f533dba1</td>\n",
       "    </tr>\n",
       "    <tr>\n",
       "      <th>2</th>\n",
       "      <td>000ae57e-2d48-11ea-abeb-c412f533dba1</td>\n",
       "      <td>2020-01-02 14:08:56</td>\n",
       "      <td>43756fa4-57a0-11e9-ab9a-c412f533dba1</td>\n",
       "    </tr>\n",
       "    <tr>\n",
       "      <th>3</th>\n",
       "      <td>00133cde-481c-11ea-abeb-c412f533dba1</td>\n",
       "      <td>2020-02-05 17:25:13</td>\n",
       "      <td>9a87c608-52dc-11ea-abeb-c412f533dba1</td>\n",
       "    </tr>\n",
       "    <tr>\n",
       "      <th>4</th>\n",
       "      <td>00148d3f-07e6-11e8-812a-c412f533dba1</td>\n",
       "      <td>2018-02-02 00:00:00</td>\n",
       "      <td>abed5496-ca88-11e9-abb8-c412f533dba1</td>\n",
       "    </tr>\n",
       "  </tbody>\n",
       "</table>\n",
       "</div>"
      ],
      "text/plain": [
       "                              client_id           created_at  \\\n",
       "0  0001da7d-fcda-11ea-ac18-c412f533dba1  2020-09-22 17:46:23   \n",
       "1  000a8743-9ae1-11e7-8114-c412f533dba1  2017-09-16 00:00:00   \n",
       "2  000ae57e-2d48-11ea-abeb-c412f533dba1  2020-01-02 14:08:56   \n",
       "3  00133cde-481c-11ea-abeb-c412f533dba1  2020-02-05 17:25:13   \n",
       "4  00148d3f-07e6-11e8-812a-c412f533dba1  2018-02-02 00:00:00   \n",
       "\n",
       "                           l_manager_id  \n",
       "0  9a87c608-52dc-11ea-abeb-c412f533dba1  \n",
       "1  ad52c7a8-a752-11e7-8115-c412f533dba1  \n",
       "2  43756fa4-57a0-11e9-ab9a-c412f533dba1  \n",
       "3  9a87c608-52dc-11ea-abeb-c412f533dba1  \n",
       "4  abed5496-ca88-11e9-abb8-c412f533dba1  "
      ]
     },
     "execution_count": 222,
     "metadata": {},
     "output_type": "execute_result"
    }
   ],
   "source": [
    "clients_df.head()"
   ]
  },
  {
   "cell_type": "markdown",
   "id": "204f93a2",
   "metadata": {},
   "source": [
    "Если сделаем подсчет значений, то обнаружим, что на каждого клиента может приходиться больше одной заявки. Тогда будем считать, что первая по времени заявка привела к созданию клиента, а остальные оказались \"мусорными\""
   ]
  },
  {
   "cell_type": "code",
   "execution_count": 226,
   "id": "8c368e6e",
   "metadata": {},
   "outputs": [
    {
     "data": {
      "text/plain": [
       "00000000-0000-0000-0000-000000000000    824\n",
       "c4447d16-29bf-11eb-ac1f-c412f533dba1      9\n",
       "ea4a2fd6-3de4-11ea-abeb-c412f533dba1      6\n",
       "f13f693a-1a02-11eb-ac1d-c412f533dba1      4\n",
       "cdf6d7bb-e599-11e8-ab7d-c412f533dba1      4\n",
       "                                       ... \n",
       "b2aac912-d258-11ea-ac0f-c412f533dba1      1\n",
       "399e23e9-1c10-11eb-ac1d-c412f533dba1      1\n",
       "c31e2aba-12cf-11eb-ac1c-c412f533dba1      1\n",
       "237042b4-1541-11eb-ac1d-c412f533dba1      1\n",
       "2aded335-1c41-11eb-ac1d-c412f533dba1      1\n",
       "Name: l_client_id, Length: 2183, dtype: int64"
      ]
     },
     "execution_count": 226,
     "metadata": {},
     "output_type": "execute_result"
    }
   ],
   "source": [
    "leads_df[\"l_client_id\"].value_counts() "
   ]
  },
  {
   "cell_type": "markdown",
   "id": "7a94348f",
   "metadata": {},
   "source": [
    "А все ли клиенты из таблицы заявок попали в таблицу клиентов? Да"
   ]
  },
  {
   "cell_type": "code",
   "execution_count": 223,
   "id": "53ab732f",
   "metadata": {},
   "outputs": [
    {
     "data": {
      "text/plain": [
       "{'00000000-0000-0000-0000-000000000000'}"
      ]
     },
     "execution_count": 223,
     "metadata": {},
     "output_type": "execute_result"
    }
   ],
   "source": [
    "leads_df_client = set(leads_df[\"l_client_id\"].unique())\n",
    "clients = set(clients_df[\"client_id\"].unique())\n",
    "leads_df_client - clients"
   ]
  },
  {
   "cell_type": "code",
   "execution_count": 227,
   "id": "2266e37f",
   "metadata": {},
   "outputs": [],
   "source": [
    "# функция, которая принимает решение, мусорная заявка или нет\n",
    "def set_if_trash(row):\n",
    "    counts = leads_df[\"l_client_id\"].value_counts() \n",
    "    if row[\"l_client_id\"] == \"00000000-0000-0000-0000-000000000000\": # если нулевые id, то одназначно мусорная\n",
    "        return \"trash\"\n",
    "    if counts[row[\"l_client_id\"]] == 1: # если заявка встретилась один раз, тогда она точно привела к созданию клиента\n",
    "        return \"not trash\"\n",
    "    # иначе проверим, является ли эта заявка самой ранней\n",
    "    # выберем из таблицы заявок все заявки этого клиента\n",
    "    # отсортируем их по дате\n",
    "    # обновим индексы в этом мини-датафрейме\n",
    "    leads = leads_df[leads_df[\"l_client_id\"] == row[\"l_client_id\"]].sort_values(by=\"created_at\").reset_index()\n",
    "    # если наша заявка (проверим по id заявки) окажется первой в мини-датафреме, то она привела к созданию клиента\n",
    "    if leads[leads[\"lead_id\"] == row[\"lead_id\"]].index[0] == 0:\n",
    "        return \"not trash\"\n",
    "    else:\n",
    "        return \"trash\""
   ]
  },
  {
   "cell_type": "code",
   "execution_count": 228,
   "id": "d2dd2e3f",
   "metadata": {},
   "outputs": [],
   "source": [
    "leads_df[\"is_trash\"] = leads_df.apply(lambda row: set_if_trash(row), axis=1) # создадим столбец с пометкой о заявке"
   ]
  },
  {
   "cell_type": "markdown",
   "id": "665aeb0c",
   "metadata": {},
   "source": [
    "#### 3. количество новых заявок (не было заявок и покупок от этого клиента раньше)"
   ]
  },
  {
   "cell_type": "code",
   "execution_count": 103,
   "id": "7c83efd4",
   "metadata": {},
   "outputs": [],
   "source": [
    "TRANS_ID = \"transactions!A1:D29001\"\n",
    "trans_df = read_table(TRANS_ID) # читаем таблицу танзакций"
   ]
  },
  {
   "cell_type": "code",
   "execution_count": 96,
   "id": "02c3704c",
   "metadata": {},
   "outputs": [
    {
     "data": {
      "text/html": [
       "<div>\n",
       "<style scoped>\n",
       "    .dataframe tbody tr th:only-of-type {\n",
       "        vertical-align: middle;\n",
       "    }\n",
       "\n",
       "    .dataframe tbody tr th {\n",
       "        vertical-align: top;\n",
       "    }\n",
       "\n",
       "    .dataframe thead th {\n",
       "        text-align: right;\n",
       "    }\n",
       "</style>\n",
       "<table border=\"1\" class=\"dataframe\">\n",
       "  <thead>\n",
       "    <tr style=\"text-align: right;\">\n",
       "      <th></th>\n",
       "      <th>transaction_id</th>\n",
       "      <th>created_at</th>\n",
       "      <th>m_real_amount</th>\n",
       "      <th>l_client_id</th>\n",
       "    </tr>\n",
       "  </thead>\n",
       "  <tbody>\n",
       "    <tr>\n",
       "      <th>0</th>\n",
       "      <td>2c9f1527-8e7f-4fb1-8000-c747a2ab46c9</td>\n",
       "      <td>2020-09-30 07:15:14</td>\n",
       "      <td>31</td>\n",
       "      <td>8a805e60-6fd6-11e7-80fc-c412f533dba1</td>\n",
       "    </tr>\n",
       "    <tr>\n",
       "      <th>1</th>\n",
       "      <td>2c9f1527-8e7f-4fb1-8000-c747a2ab46c9</td>\n",
       "      <td>2020-09-30 07:15:14</td>\n",
       "      <td>87</td>\n",
       "      <td>8a805e60-6fd6-11e7-80fc-c412f533dba1</td>\n",
       "    </tr>\n",
       "    <tr>\n",
       "      <th>2</th>\n",
       "      <td>ab8cbcf7-3271-49a0-8001-6cf9816f63b8</td>\n",
       "      <td>2020-09-12 13:47:04</td>\n",
       "      <td>49231</td>\n",
       "      <td>dc0d0e52-629a-11ea-abf3-c412f533dba1</td>\n",
       "    </tr>\n",
       "    <tr>\n",
       "      <th>3</th>\n",
       "      <td>ab8cbcf7-3271-49a0-8001-6cf9816f63b8</td>\n",
       "      <td>2020-09-12 13:47:04</td>\n",
       "      <td>17305</td>\n",
       "      <td>dc0d0e52-629a-11ea-abf3-c412f533dba1</td>\n",
       "    </tr>\n",
       "    <tr>\n",
       "      <th>4</th>\n",
       "      <td>52f8ebcc-d82d-4be1-8004-72cfbe0dff24</td>\n",
       "      <td>2020-09-25 06:00:07</td>\n",
       "      <td>9022</td>\n",
       "      <td>e663b6a0-4a1a-11e8-a2c3-c412f533dba1</td>\n",
       "    </tr>\n",
       "  </tbody>\n",
       "</table>\n",
       "</div>"
      ],
      "text/plain": [
       "                         transaction_id           created_at m_real_amount  \\\n",
       "0  2c9f1527-8e7f-4fb1-8000-c747a2ab46c9  2020-09-30 07:15:14            31   \n",
       "1  2c9f1527-8e7f-4fb1-8000-c747a2ab46c9  2020-09-30 07:15:14            87   \n",
       "2  ab8cbcf7-3271-49a0-8001-6cf9816f63b8  2020-09-12 13:47:04         49231   \n",
       "3  ab8cbcf7-3271-49a0-8001-6cf9816f63b8  2020-09-12 13:47:04         17305   \n",
       "4  52f8ebcc-d82d-4be1-8004-72cfbe0dff24  2020-09-25 06:00:07          9022   \n",
       "\n",
       "                            l_client_id  \n",
       "0  8a805e60-6fd6-11e7-80fc-c412f533dba1  \n",
       "1  8a805e60-6fd6-11e7-80fc-c412f533dba1  \n",
       "2  dc0d0e52-629a-11ea-abf3-c412f533dba1  \n",
       "3  dc0d0e52-629a-11ea-abf3-c412f533dba1  \n",
       "4  e663b6a0-4a1a-11e8-a2c3-c412f533dba1  "
      ]
     },
     "execution_count": 96,
     "metadata": {},
     "output_type": "execute_result"
    }
   ],
   "source": [
    "trans_df.head()"
   ]
  },
  {
   "cell_type": "markdown",
   "id": "946c4d44",
   "metadata": {},
   "source": [
    "Есть ли такие случаи, когда заявка существует, а покупка нет? Нет, проверка ниже"
   ]
  },
  {
   "cell_type": "code",
   "execution_count": 152,
   "id": "e8f66ab4",
   "metadata": {},
   "outputs": [],
   "source": [
    "from collections import defaultdict "
   ]
  },
  {
   "cell_type": "code",
   "execution_count": 162,
   "id": "e0133299",
   "metadata": {},
   "outputs": [],
   "source": [
    "# найти впервые оставленные заявки \n",
    "clients = leads_df[\"l_client_id\"].unique()\n",
    "clients = clients[clients != \"00000000-0000-0000-0000-000000000000\"]\n",
    "counts = leads_df[\"l_client_id\"].value_counts()\n",
    "new_leads = defaultdict(list)\n",
    "for client in clients:\n",
    "    if counts[client] == 1: # если клиент встретился один раз, то считаем его заявку новой\n",
    "        lead = leads_df[leads_df[\"l_client_id\"] == client]\n",
    "        for col in lead.columns:\n",
    "            new_leads[col].append(lead[col].iloc[0])\n",
    "    else:\n",
    "        leads = leads_df[leads_df[\"l_client_id\"] == client].sort_values(by=\"created_at\") # иначе выбираем первую по времени\n",
    "        for col in leads.columns:\n",
    "            new_leads[col].append(leads[col].iloc[0])\n",
    "            \n",
    "new_leads = pd.DataFrame(new_leads)"
   ]
  },
  {
   "cell_type": "code",
   "execution_count": 170,
   "id": "413f6cd7",
   "metadata": {},
   "outputs": [],
   "source": [
    "# проверить, что клиенты до этих заявок не совершали покупок (не совершал никто, если брать для всего датасета)\n",
    "for client_id in new_leads[\"l_client_id\"]:\n",
    "    if client_id in trans_df[\"l_client_id\"]:\n",
    "        print(client_id)"
   ]
  },
  {
   "cell_type": "code",
   "execution_count": 229,
   "id": "126c39dc",
   "metadata": {},
   "outputs": [],
   "source": [
    "# значит, достаточно проверить только заявки, поскольку нет таких покупок, которые были совершены без заявки (проверка ниже)\n",
    "def set_if_new(row):\n",
    "    counts = leads_df[\"l_client_id\"].value_counts()\n",
    "    if row[\"l_client_id\"] == \"00000000-0000-0000-0000-000000000000\":\n",
    "        return \"not new\"\n",
    "    if counts[row[\"l_client_id\"]] == 1: # если клиент встретился один раз, то считаем его заявку новой\n",
    "        return \"new\"\n",
    "    # иначе проверим, соответствует ли id заявки первой заявке от этого клиента\n",
    "    leads = leads_df[leads_df[\"l_client_id\"] == row[\"l_client_id\"]].sort_values(by=\"created_at\")\n",
    "    if row[\"lead_id\"] == leads.iloc[0][\"lead_id\"]:\n",
    "        return \"new\"\n",
    "    else: return \"not new\""
   ]
  },
  {
   "cell_type": "code",
   "execution_count": 230,
   "id": "4aaf7425",
   "metadata": {},
   "outputs": [],
   "source": [
    "leads_df[\"is_new\"] = leads_df.apply(lambda x: set_if_new(x), axis=1)"
   ]
  },
  {
   "cell_type": "markdown",
   "id": "fc83fc81",
   "metadata": {},
   "source": [
    "#### 4. количество покупателей (кто купил в течение недели после заявки)\n",
    "\n",
    "#### 5. количество новых покупателей (кто купил в течение недели после заявки, и не покупал раньше)"
   ]
  },
  {
   "cell_type": "code",
   "execution_count": 231,
   "id": "40c7f065",
   "metadata": {},
   "outputs": [],
   "source": [
    "#  функция, которая сразу определяет, совершил ли клиент покупку и был ли этот клиент новым\n",
    "def set_if_buyer(row):\n",
    "    client_id = row[\"l_client_id\"]\n",
    "    if client_id not in trans_df[\"l_client_id\"].tolist():\n",
    "        return \"not buyer\"\n",
    "    \n",
    "    transaction = trans_df[trans_df[\"l_client_id\"] == client_id]\n",
    "    row_dt = pd.to_datetime(row[\"created_at\"], utc=True)\n",
    "    transaction_dt = transaction.copy()\n",
    "    transaction_dt[\"created_at\"] = transaction[\"created_at\"].apply(lambda x: pd.to_datetime(x, utc=True))\n",
    "    transaction_dt[\"created_at\"] = transaction_dt[\"created_at\"].sort_values(ascending=False) \n",
    "    \n",
    "    is_new = True # пока считаем, что покупатель новый\n",
    "    for t_dt in transaction_dt[\"created_at\"]:\n",
    "        dt = (t_dt - row_dt).days # дата покупки минус дата продажи в днях\n",
    "        if dt < 0 and is_new: # если обнаружили, что покупка уже была совершена до заявки, то покупателдь уже не новый\n",
    "            is_new = False\n",
    "        if dt >= 0 and dt <= 7:\n",
    "            if is_new:\n",
    "                return \"new buyer\"\n",
    "            else:\n",
    "                return \"buyer\"\n",
    "    return \"not buyer\""
   ]
  },
  {
   "cell_type": "code",
   "execution_count": 232,
   "id": "b20e94c7",
   "metadata": {},
   "outputs": [],
   "source": [
    "leads_df[\"is_buyer\"] = leads_df.apply(lambda row: set_if_buyer(row), axis=1)"
   ]
  },
  {
   "cell_type": "code",
   "execution_count": 233,
   "id": "3dd03fb0",
   "metadata": {},
   "outputs": [
    {
     "data": {
      "text/html": [
       "<div>\n",
       "<style scoped>\n",
       "    .dataframe tbody tr th:only-of-type {\n",
       "        vertical-align: middle;\n",
       "    }\n",
       "\n",
       "    .dataframe tbody tr th {\n",
       "        vertical-align: top;\n",
       "    }\n",
       "\n",
       "    .dataframe thead th {\n",
       "        text-align: right;\n",
       "    }\n",
       "</style>\n",
       "<table border=\"1\" class=\"dataframe\">\n",
       "  <thead>\n",
       "    <tr style=\"text-align: right;\">\n",
       "      <th></th>\n",
       "      <th>lead_id</th>\n",
       "      <th>created_at</th>\n",
       "      <th>d_utm_medium</th>\n",
       "      <th>d_utm_source</th>\n",
       "      <th>l_manager_id</th>\n",
       "      <th>l_client_id</th>\n",
       "      <th>is_trash</th>\n",
       "      <th>is_buyer</th>\n",
       "      <th>is_new</th>\n",
       "      <th>m_real_amount</th>\n",
       "    </tr>\n",
       "  </thead>\n",
       "  <tbody>\n",
       "    <tr>\n",
       "      <th>0</th>\n",
       "      <td>00678e71-0fb9-11eb-ac1a-c412f533dba1</td>\n",
       "      <td>2020-10-16 18:08:09</td>\n",
       "      <td>sms</td>\n",
       "      <td>viber</td>\n",
       "      <td>1e9c5562-0cfc-11ea-abe1-c412f533dba1</td>\n",
       "      <td>7264cf21-a31d-11e9-abb0-c412f533dba1</td>\n",
       "      <td>not trash</td>\n",
       "      <td>new buyer</td>\n",
       "      <td>new</td>\n",
       "      <td>44041</td>\n",
       "    </tr>\n",
       "    <tr>\n",
       "      <th>1</th>\n",
       "      <td>0078b05d-0f1f-11eb-ac1a-c412f533dba1</td>\n",
       "      <td>2020-10-15 23:45:40</td>\n",
       "      <td>cpc</td>\n",
       "      <td>instagram</td>\n",
       "      <td>d12fe765-b444-11e9-abb3-c412f533dba1</td>\n",
       "      <td>606c5b29-0f88-11eb-ac1a-c412f533dba1</td>\n",
       "      <td>not trash</td>\n",
       "      <td>not buyer</td>\n",
       "      <td>new</td>\n",
       "      <td>0</td>\n",
       "    </tr>\n",
       "    <tr>\n",
       "      <th>2</th>\n",
       "      <td>007d1401-2af3-11eb-ac1f-c412f533dba1</td>\n",
       "      <td>2020-11-20 09:41:14</td>\n",
       "      <td>cpc</td>\n",
       "      <td>instagram</td>\n",
       "      <td>43756fa4-57a0-11e9-ab9a-c412f533dba1</td>\n",
       "      <td>1f389c6a-d5ab-11e9-abbe-c412f533dba1</td>\n",
       "      <td>not trash</td>\n",
       "      <td>not buyer</td>\n",
       "      <td>new</td>\n",
       "      <td>0</td>\n",
       "    </tr>\n",
       "    <tr>\n",
       "      <th>3</th>\n",
       "      <td>0084e614-2fcc-11eb-ac1f-c412f533dba1</td>\n",
       "      <td>2020-11-26 13:44:40</td>\n",
       "      <td></td>\n",
       "      <td></td>\n",
       "      <td>00000000-0000-0000-0000-000000000000</td>\n",
       "      <td>00000000-0000-0000-0000-000000000000</td>\n",
       "      <td>trash</td>\n",
       "      <td>not buyer</td>\n",
       "      <td>not new</td>\n",
       "      <td>0</td>\n",
       "    </tr>\n",
       "    <tr>\n",
       "      <th>4</th>\n",
       "      <td>009b1616-145d-11eb-ac1d-c412f533dba1</td>\n",
       "      <td>2020-10-22 15:52:04</td>\n",
       "      <td>cpc</td>\n",
       "      <td>vk</td>\n",
       "      <td>5dd88f32-6501-11ea-abf3-c412f533dba1</td>\n",
       "      <td>ac2c0012-6fd5-11e7-80fc-c412f533dba1</td>\n",
       "      <td>not trash</td>\n",
       "      <td>not buyer</td>\n",
       "      <td>new</td>\n",
       "      <td>0</td>\n",
       "    </tr>\n",
       "  </tbody>\n",
       "</table>\n",
       "</div>"
      ],
      "text/plain": [
       "                                lead_id           created_at d_utm_medium  \\\n",
       "0  00678e71-0fb9-11eb-ac1a-c412f533dba1  2020-10-16 18:08:09          sms   \n",
       "1  0078b05d-0f1f-11eb-ac1a-c412f533dba1  2020-10-15 23:45:40          cpc   \n",
       "2  007d1401-2af3-11eb-ac1f-c412f533dba1  2020-11-20 09:41:14          cpc   \n",
       "3  0084e614-2fcc-11eb-ac1f-c412f533dba1  2020-11-26 13:44:40                \n",
       "4  009b1616-145d-11eb-ac1d-c412f533dba1  2020-10-22 15:52:04          cpc   \n",
       "\n",
       "  d_utm_source                          l_manager_id  \\\n",
       "0        viber  1e9c5562-0cfc-11ea-abe1-c412f533dba1   \n",
       "1    instagram  d12fe765-b444-11e9-abb3-c412f533dba1   \n",
       "2    instagram  43756fa4-57a0-11e9-ab9a-c412f533dba1   \n",
       "3               00000000-0000-0000-0000-000000000000   \n",
       "4           vk  5dd88f32-6501-11ea-abf3-c412f533dba1   \n",
       "\n",
       "                            l_client_id   is_trash   is_buyer   is_new  \\\n",
       "0  7264cf21-a31d-11e9-abb0-c412f533dba1  not trash  new buyer      new   \n",
       "1  606c5b29-0f88-11eb-ac1a-c412f533dba1  not trash  not buyer      new   \n",
       "2  1f389c6a-d5ab-11e9-abbe-c412f533dba1  not trash  not buyer      new   \n",
       "3  00000000-0000-0000-0000-000000000000      trash  not buyer  not new   \n",
       "4  ac2c0012-6fd5-11e7-80fc-c412f533dba1  not trash  not buyer      new   \n",
       "\n",
       "  m_real_amount  \n",
       "0         44041  \n",
       "1             0  \n",
       "2             0  \n",
       "3             0  \n",
       "4             0  "
      ]
     },
     "execution_count": 233,
     "metadata": {},
     "output_type": "execute_result"
    }
   ],
   "source": [
    "leads_df.head()"
   ]
  },
  {
   "cell_type": "markdown",
   "id": "cafc6462",
   "metadata": {},
   "source": [
    "#### 6. доход от покупок новых покупателей"
   ]
  },
  {
   "cell_type": "code",
   "execution_count": 234,
   "id": "6edbfe4f",
   "metadata": {},
   "outputs": [],
   "source": [
    "# функция, которая подтягивает стоимость покупки\n",
    "def set_trans_amount(row):\n",
    "    client_id = row[\"l_client_id\"]\n",
    "    if client_id not in trans_df[\"l_client_id\"].tolist():\n",
    "        return 0\n",
    "    \n",
    "    transaction = trans_df[trans_df[\"l_client_id\"] == client_id]\n",
    "    row_dt = pd.to_datetime(row[\"created_at\"], utc=True)\n",
    "    transaction_dt = transaction.copy()\n",
    "    transaction_dt[\"created_at\"] = transaction[\"created_at\"].apply(lambda x: pd.to_datetime(x, utc=True))\n",
    "    transaction_dt[\"created_at\"] = transaction_dt[\"created_at\"].sort_values(ascending=False) \n",
    "    \n",
    "    is_new = True # пока считаем, что покупатель новый\n",
    "    for i, t_dt in enumerate(transaction_dt[\"created_at\"]):\n",
    "        dt = (t_dt - row_dt).days # дата покупки - дата продажи\n",
    "        if dt >= 0 and dt <= 7: # если покупка была совершена (не факт, что она новая, это мы проверим в дальнейшем в сводной таблице)\n",
    "            return transaction_dt.iloc[i][\"m_real_amount\"]\n",
    "    return 0"
   ]
  },
  {
   "cell_type": "code",
   "execution_count": 235,
   "id": "56a66780",
   "metadata": {},
   "outputs": [],
   "source": [
    "leads_df[\"m_real_amount\"] = leads_df.apply(lambda x: set_trans_amount(x), axis=1)"
   ]
  },
  {
   "cell_type": "code",
   "execution_count": 236,
   "id": "c2cb5ab5",
   "metadata": {},
   "outputs": [
    {
     "name": "stdout",
     "output_type": "stream",
     "text": [
      "{'spreadsheetId': '17UbRcA-UgY2CbqeumagIHnctQsqj5lu_iJUTMq_IFqA', 'totalUpdatedRows': 3338, 'totalUpdatedColumns': 5, 'totalUpdatedCells': 16690, 'totalUpdatedSheets': 1, 'responses': [{'spreadsheetId': '17UbRcA-UgY2CbqeumagIHnctQsqj5lu_iJUTMq_IFqA', 'updatedRange': 'pivot!A1:E3338', 'updatedRows': 3338, 'updatedColumns': 5, 'updatedCells': 16690}]}\n"
     ]
    }
   ],
   "source": [
    "# запись на диск таблицы, на основе которой будет формироваться сводная\n",
    "write_table(leads_df.drop([\"created_at\", \"d_utm_medium\", \"d_utm_source\", \"l_manager_id\", \"l_client_id\"], axis=1), \"pivot!A1:J\"+str(len(leads_df)+1))"
   ]
  },
  {
   "cell_type": "code",
   "execution_count": null,
   "id": "fc60b2e7",
   "metadata": {},
   "outputs": [],
   "source": []
  }
 ],
 "metadata": {
  "kernelspec": {
   "display_name": "Python 3",
   "language": "python",
   "name": "python3"
  },
  "language_info": {
   "codemirror_mode": {
    "name": "ipython",
    "version": 3
   },
   "file_extension": ".py",
   "mimetype": "text/x-python",
   "name": "python",
   "nbconvert_exporter": "python",
   "pygments_lexer": "ipython3",
   "version": "3.8.8"
  }
 },
 "nbformat": 4,
 "nbformat_minor": 5
}
